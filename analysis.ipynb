{
 "cells": [
  {
   "cell_type": "code",
   "execution_count": 6,
   "metadata": {},
   "outputs": [],
   "source": [
    "import numpy as np\n",
    "import pandas as pd\n",
    "import matplotlib.pyplot as plt\n",
    "import datetime"
   ]
  },
  {
   "cell_type": "markdown",
   "metadata": {},
   "source": [
    "### Phase1: Election 16 vs Election 20"
   ]
  },
  {
   "cell_type": "code",
   "execution_count": 33,
   "metadata": {},
   "outputs": [],
   "source": [
    "elec16 = pd.read_csv(\"train/phase1/election16.csv\")  \n",
    "elec20 = pd.read_csv(\"train/phase1/election20.csv\")  "
   ]
  },
  {
   "cell_type": "code",
   "execution_count": 79,
   "metadata": {},
   "outputs": [],
   "source": [
    "elec16['date'] = elec16.apply(lambda row: datetime.datetime.strptime(row.time, '%a %b %d %H:%M:%S %z %Y').date(), axis=1)        \n",
    "elec20['date'] = elec20.apply(lambda row: datetime.datetime.strptime(row.time, '%a %b %d %H:%M:%S %z %Y').date(), axis=1)        "
   ]
  },
  {
   "cell_type": "code",
   "execution_count": 78,
   "metadata": {},
   "outputs": [
    {
     "data": {
      "text/html": [
       "<div>\n",
       "<style scoped>\n",
       "    .dataframe tbody tr th:only-of-type {\n",
       "        vertical-align: middle;\n",
       "    }\n",
       "\n",
       "    .dataframe tbody tr th {\n",
       "        vertical-align: top;\n",
       "    }\n",
       "\n",
       "    .dataframe thead th {\n",
       "        text-align: right;\n",
       "    }\n",
       "</style>\n",
       "<table border=\"1\" class=\"dataframe\">\n",
       "  <thead>\n",
       "    <tr style=\"text-align: right;\">\n",
       "      <th></th>\n",
       "      <th>time</th>\n",
       "      <th>text</th>\n",
       "      <th>target</th>\n",
       "      <th>date</th>\n",
       "    </tr>\n",
       "  </thead>\n",
       "  <tbody>\n",
       "    <tr>\n",
       "      <td>0</td>\n",
       "      <td>Mon Aug 17 18:31:45 +0000 2020</td>\n",
       "      <td>RT @DemConvention: We've always risen to our c...</td>\n",
       "      <td>3</td>\n",
       "      <td>2020-08-17</td>\n",
       "    </tr>\n",
       "    <tr>\n",
       "      <td>1</td>\n",
       "      <td>Mon Aug 17 18:40:59 +0000 2020</td>\n",
       "      <td>RT @kleavitt: @monacharenEPPC @MaxBoot Part of...</td>\n",
       "      <td>1</td>\n",
       "      <td>2020-08-17</td>\n",
       "    </tr>\n",
       "    <tr>\n",
       "      <td>2</td>\n",
       "      <td>Mon Aug 17 18:56:49 +0000 2020</td>\n",
       "      <td>RT @EricTrump: .@realDonaldTrump Boat Parade t...</td>\n",
       "      <td>2</td>\n",
       "      <td>2020-08-17</td>\n",
       "    </tr>\n",
       "    <tr>\n",
       "      <td>3</td>\n",
       "      <td>Mon Aug 17 18:19:23 +0000 2020</td>\n",
       "      <td>RT @realDonaldTrump: Getting ready to land in ...</td>\n",
       "      <td>3</td>\n",
       "      <td>2020-08-17</td>\n",
       "    </tr>\n",
       "    <tr>\n",
       "      <td>4</td>\n",
       "      <td>Mon Aug 17 18:52:43 +0000 2020</td>\n",
       "      <td>about mail in vs absentee voting is a lie. \\nT...</td>\n",
       "      <td>1</td>\n",
       "      <td>2020-08-17</td>\n",
       "    </tr>\n",
       "  </tbody>\n",
       "</table>\n",
       "</div>"
      ],
      "text/plain": [
       "                             time  \\\n",
       "0  Mon Aug 17 18:31:45 +0000 2020   \n",
       "1  Mon Aug 17 18:40:59 +0000 2020   \n",
       "2  Mon Aug 17 18:56:49 +0000 2020   \n",
       "3  Mon Aug 17 18:19:23 +0000 2020   \n",
       "4  Mon Aug 17 18:52:43 +0000 2020   \n",
       "\n",
       "                                                text  target        date  \n",
       "0  RT @DemConvention: We've always risen to our c...       3  2020-08-17  \n",
       "1  RT @kleavitt: @monacharenEPPC @MaxBoot Part of...       1  2020-08-17  \n",
       "2  RT @EricTrump: .@realDonaldTrump Boat Parade t...       2  2020-08-17  \n",
       "3  RT @realDonaldTrump: Getting ready to land in ...       3  2020-08-17  \n",
       "4  about mail in vs absentee voting is a lie. \\nT...       1  2020-08-17  "
      ]
     },
     "execution_count": 78,
     "metadata": {},
     "output_type": "execute_result"
    }
   ],
   "source": [
    "elec20.head()"
   ]
  },
  {
   "cell_type": "code",
   "execution_count": 37,
   "metadata": {},
   "outputs": [],
   "source": [
    "mean_elec16 = elec16.groupby('date').mean()  \n",
    "mean_elec20 = elec20.groupby('date').mean() "
   ]
  },
  {
   "cell_type": "code",
   "execution_count": 16,
   "metadata": {},
   "outputs": [
    {
     "data": {
      "text/html": [
       "<div>\n",
       "<style scoped>\n",
       "    .dataframe tbody tr th:only-of-type {\n",
       "        vertical-align: middle;\n",
       "    }\n",
       "\n",
       "    .dataframe tbody tr th {\n",
       "        vertical-align: top;\n",
       "    }\n",
       "\n",
       "    .dataframe thead th {\n",
       "        text-align: right;\n",
       "    }\n",
       "</style>\n",
       "<table border=\"1\" class=\"dataframe\">\n",
       "  <thead>\n",
       "    <tr style=\"text-align: right;\">\n",
       "      <th></th>\n",
       "      <th>target</th>\n",
       "    </tr>\n",
       "    <tr>\n",
       "      <th>date</th>\n",
       "      <th></th>\n",
       "    </tr>\n",
       "  </thead>\n",
       "  <tbody>\n",
       "    <tr>\n",
       "      <td>2020-08-17</td>\n",
       "      <td>2.192308</td>\n",
       "    </tr>\n",
       "    <tr>\n",
       "      <td>2020-08-18</td>\n",
       "      <td>1.917808</td>\n",
       "    </tr>\n",
       "    <tr>\n",
       "      <td>2020-08-19</td>\n",
       "      <td>1.948718</td>\n",
       "    </tr>\n",
       "    <tr>\n",
       "      <td>2020-08-20</td>\n",
       "      <td>1.932432</td>\n",
       "    </tr>\n",
       "    <tr>\n",
       "      <td>2020-08-24</td>\n",
       "      <td>1.652778</td>\n",
       "    </tr>\n",
       "    <tr>\n",
       "      <td>2020-08-25</td>\n",
       "      <td>1.933333</td>\n",
       "    </tr>\n",
       "    <tr>\n",
       "      <td>2020-08-26</td>\n",
       "      <td>1.676471</td>\n",
       "    </tr>\n",
       "    <tr>\n",
       "      <td>2020-08-27</td>\n",
       "      <td>1.890411</td>\n",
       "    </tr>\n",
       "    <tr>\n",
       "      <td>2020-09-28</td>\n",
       "      <td>1.740260</td>\n",
       "    </tr>\n",
       "    <tr>\n",
       "      <td>2020-09-29</td>\n",
       "      <td>2.012346</td>\n",
       "    </tr>\n",
       "    <tr>\n",
       "      <td>2020-09-30</td>\n",
       "      <td>1.794521</td>\n",
       "    </tr>\n",
       "    <tr>\n",
       "      <td>2020-10-06</td>\n",
       "      <td>1.925000</td>\n",
       "    </tr>\n",
       "    <tr>\n",
       "      <td>2020-10-07</td>\n",
       "      <td>2.066667</td>\n",
       "    </tr>\n",
       "    <tr>\n",
       "      <td>2020-10-08</td>\n",
       "      <td>2.036585</td>\n",
       "    </tr>\n",
       "    <tr>\n",
       "      <td>2020-10-21</td>\n",
       "      <td>1.891566</td>\n",
       "    </tr>\n",
       "    <tr>\n",
       "      <td>2020-10-22</td>\n",
       "      <td>1.851351</td>\n",
       "    </tr>\n",
       "    <tr>\n",
       "      <td>2020-10-23</td>\n",
       "      <td>1.963415</td>\n",
       "    </tr>\n",
       "  </tbody>\n",
       "</table>\n",
       "</div>"
      ],
      "text/plain": [
       "              target\n",
       "date                \n",
       "2020-08-17  2.192308\n",
       "2020-08-18  1.917808\n",
       "2020-08-19  1.948718\n",
       "2020-08-20  1.932432\n",
       "2020-08-24  1.652778\n",
       "2020-08-25  1.933333\n",
       "2020-08-26  1.676471\n",
       "2020-08-27  1.890411\n",
       "2020-09-28  1.740260\n",
       "2020-09-29  2.012346\n",
       "2020-09-30  1.794521\n",
       "2020-10-06  1.925000\n",
       "2020-10-07  2.066667\n",
       "2020-10-08  2.036585\n",
       "2020-10-21  1.891566\n",
       "2020-10-22  1.851351\n",
       "2020-10-23  1.963415"
      ]
     },
     "execution_count": 16,
     "metadata": {},
     "output_type": "execute_result"
    }
   ],
   "source": [
    "mean_elec20"
   ]
  },
  {
   "cell_type": "code",
   "execution_count": 89,
   "metadata": {},
   "outputs": [],
   "source": [
    "elec16_v2 = pd.read_csv(\"train/phase1/election16.csv\")  \n",
    "elec20_v2 = pd.read_csv(\"train/phase1/election20.csv\")  "
   ]
  },
  {
   "cell_type": "code",
   "execution_count": 90,
   "metadata": {},
   "outputs": [],
   "source": [
    "elec16_v2['date'] = elec16_v2.apply(lambda row: int(datetime.datetime.strptime(row.time, '%a %b %d %H:%M:%S %z %Y').month), axis=1)        \n",
    "elec20_v2['date'] = elec20_v2.apply(lambda row: datetime.datetime.strptime(row.time, '%a %b %d %H:%M:%S %z %Y').month, axis=1)        "
   ]
  },
  {
   "cell_type": "code",
   "execution_count": 131,
   "metadata": {},
   "outputs": [],
   "source": [
    "elec16_means = []\n",
    "elec16_means.append(elec16_v2[elec16_v2['date'] == 7]['target'].mean())\n",
    "elec16_means.append(elec16_v2[[d in [9, 10] for d in elec16_v2['date']]]['target'].mean())"
   ]
  },
  {
   "cell_type": "code",
   "execution_count": 132,
   "metadata": {},
   "outputs": [],
   "source": [
    "elec20_means = []\n",
    "elec20_means.append(elec20_v2[[d in [7, 8] for d in elec20_v2['date']]]['target'].mean())\n",
    "elec20_means.append(elec20_v2[[d in [9, 10] for d in elec20_v2['date']]]['target'].mean())"
   ]
  },
  {
   "cell_type": "code",
   "execution_count": 133,
   "metadata": {},
   "outputs": [
    {
     "data": {
      "text/plain": [
       "[1.910828025477707, 1.9340836012861737]"
      ]
     },
     "execution_count": 133,
     "metadata": {},
     "output_type": "execute_result"
    }
   ],
   "source": [
    "elec16_means"
   ]
  },
  {
   "cell_type": "code",
   "execution_count": 134,
   "metadata": {},
   "outputs": [
    {
     "data": {
      "text/plain": [
       "[1.898477157360406, 1.9222065063649223]"
      ]
     },
     "execution_count": 134,
     "metadata": {},
     "output_type": "execute_result"
    }
   ],
   "source": [
    "elec20_means"
   ]
  },
  {
   "cell_type": "code",
   "execution_count": 86,
   "metadata": {},
   "outputs": [],
   "source": [
    "mean_elec20_v2 = elec20_v2.groupby('date').mean()"
   ]
  },
  {
   "cell_type": "code",
   "execution_count": 140,
   "metadata": {
    "scrolled": false
   },
   "outputs": [
    {
     "data": {
      "text/plain": [
       "<matplotlib.legend.Legend at 0x7fbff5c62f90>"
      ]
     },
     "execution_count": 140,
     "metadata": {},
     "output_type": "execute_result"
    },
    {
     "data": {
      "image/png": "[encoded data removed]",
      "text/plain": [
       "<Figure size 432x288 with 1 Axes>"
      ]
     },
     "metadata": {
      "needs_background": "light"
     },
     "output_type": "display_data"
    }
   ],
   "source": [
    "plt.plot(['7,8', '9,10'], elec16_means, label='election16')\n",
    "plt.plot(['7,8', '9,10'], elec20_means, label='election20')\n",
    "plt.legend()"
   ]
  },
  {
   "cell_type": "markdown",
   "metadata": {},
   "source": [
    "### Phase1: Covid Canada vs Covid US"
   ]
  },
  {
   "cell_type": "code",
   "execution_count": 145,
   "metadata": {},
   "outputs": [],
   "source": [
    "cvd_ca = pd.read_csv(\"train/phase1/Covid_CA_new.csv\")  \n",
    "cvd_us = pd.read_csv(\"train/phase2/Covid_US.csv\")  "
   ]
  },
  {
   "cell_type": "code",
   "execution_count": 146,
   "metadata": {},
   "outputs": [
    {
     "data": {
      "text/html": [
       "<div>\n",
       "<style scoped>\n",
       "    .dataframe tbody tr th:only-of-type {\n",
       "        vertical-align: middle;\n",
       "    }\n",
       "\n",
       "    .dataframe tbody tr th {\n",
       "        vertical-align: top;\n",
       "    }\n",
       "\n",
       "    .dataframe thead th {\n",
       "        text-align: right;\n",
       "    }\n",
       "</style>\n",
       "<table border=\"1\" class=\"dataframe\">\n",
       "  <thead>\n",
       "    <tr style=\"text-align: right;\">\n",
       "      <th></th>\n",
       "      <th>time</th>\n",
       "      <th>text</th>\n",
       "      <th>target</th>\n",
       "    </tr>\n",
       "  </thead>\n",
       "  <tbody>\n",
       "    <tr>\n",
       "      <td>0</td>\n",
       "      <td>Sat Mar 28 15:29:44 +0000 2020</td>\n",
       "      <td>Conrad Black on COVID-19: The world succumbed ...</td>\n",
       "      <td>1</td>\n",
       "    </tr>\n",
       "    <tr>\n",
       "      <td>1</td>\n",
       "      <td>Sat Mar 28 15:29:34 +0000 2020</td>\n",
       "      <td>In this disaster lies an opportunity to reflec...</td>\n",
       "      <td>1</td>\n",
       "    </tr>\n",
       "    <tr>\n",
       "      <td>2</td>\n",
       "      <td>Sat Mar 28 15:28:18 +0000 2020</td>\n",
       "      <td>On Friday, an employee from the Steeles Ave We...</td>\n",
       "      <td>3</td>\n",
       "    </tr>\n",
       "    <tr>\n",
       "      <td>3</td>\n",
       "      <td>Sat Mar 28 15:27:55 +0000 2020</td>\n",
       "      <td>Best not to go to the White House. It is proba...</td>\n",
       "      <td>1</td>\n",
       "    </tr>\n",
       "    <tr>\n",
       "      <td>4</td>\n",
       "      <td>Sat Mar 28 15:27:33 +0000 2020</td>\n",
       "      <td>Coronavirus updates: LCBO employee tests posit...</td>\n",
       "      <td>1</td>\n",
       "    </tr>\n",
       "  </tbody>\n",
       "</table>\n",
       "</div>"
      ],
      "text/plain": [
       "                             time  \\\n",
       "0  Sat Mar 28 15:29:44 +0000 2020   \n",
       "1  Sat Mar 28 15:29:34 +0000 2020   \n",
       "2  Sat Mar 28 15:28:18 +0000 2020   \n",
       "3  Sat Mar 28 15:27:55 +0000 2020   \n",
       "4  Sat Mar 28 15:27:33 +0000 2020   \n",
       "\n",
       "                                                text  target  \n",
       "0  Conrad Black on COVID-19: The world succumbed ...       1  \n",
       "1  In this disaster lies an opportunity to reflec...       1  \n",
       "2  On Friday, an employee from the Steeles Ave We...       3  \n",
       "3  Best not to go to the White House. It is proba...       1  \n",
       "4  Coronavirus updates: LCBO employee tests posit...       1  "
      ]
     },
     "execution_count": 146,
     "metadata": {},
     "output_type": "execute_result"
    }
   ],
   "source": [
    "cvd_ca.head()"
   ]
  },
  {
   "cell_type": "code",
   "execution_count": 147,
   "metadata": {},
   "outputs": [
    {
     "data": {
      "text/html": [
       "<div>\n",
       "<style scoped>\n",
       "    .dataframe tbody tr th:only-of-type {\n",
       "        vertical-align: middle;\n",
       "    }\n",
       "\n",
       "    .dataframe tbody tr th {\n",
       "        vertical-align: top;\n",
       "    }\n",
       "\n",
       "    .dataframe thead th {\n",
       "        text-align: right;\n",
       "    }\n",
       "</style>\n",
       "<table border=\"1\" class=\"dataframe\">\n",
       "  <thead>\n",
       "    <tr style=\"text-align: right;\">\n",
       "      <th></th>\n",
       "      <th>time</th>\n",
       "      <th>text</th>\n",
       "      <th>target</th>\n",
       "    </tr>\n",
       "  </thead>\n",
       "  <tbody>\n",
       "    <tr>\n",
       "      <td>0</td>\n",
       "      <td>Mon Aug 17 18:02:35 +0000 2020</td>\n",
       "      <td>RT @NeetJeePospone: ⚠️【 SOP EXPOSED 】⚠️\\n●LOCA...</td>\n",
       "      <td>0</td>\n",
       "    </tr>\n",
       "    <tr>\n",
       "      <td>1</td>\n",
       "      <td>Mon Aug 17 18:21:39 +0000 2020</td>\n",
       "      <td>RT @yinonw: Similarly, Germany's coronavirus \"...</td>\n",
       "      <td>3</td>\n",
       "    </tr>\n",
       "    <tr>\n",
       "      <td>2</td>\n",
       "      <td>Mon Aug 17 18:04:10 +0000 2020</td>\n",
       "      <td>RT @HassanPeppe: Karasuwa local government ins...</td>\n",
       "      <td>3</td>\n",
       "    </tr>\n",
       "    <tr>\n",
       "      <td>3</td>\n",
       "      <td>Mon Aug 17 18:01:21 +0000 2020</td>\n",
       "      <td>@Chrisar26375059 Am jealous haven't seen my fa...</td>\n",
       "      <td>3</td>\n",
       "    </tr>\n",
       "    <tr>\n",
       "      <td>4</td>\n",
       "      <td>Mon Aug 17 18:22:34 +0000 2020</td>\n",
       "      <td>RT @BrandonStraka: No, you don’t have to stay ...</td>\n",
       "      <td>0</td>\n",
       "    </tr>\n",
       "  </tbody>\n",
       "</table>\n",
       "</div>"
      ],
      "text/plain": [
       "                             time  \\\n",
       "0  Mon Aug 17 18:02:35 +0000 2020   \n",
       "1  Mon Aug 17 18:21:39 +0000 2020   \n",
       "2  Mon Aug 17 18:04:10 +0000 2020   \n",
       "3  Mon Aug 17 18:01:21 +0000 2020   \n",
       "4  Mon Aug 17 18:22:34 +0000 2020   \n",
       "\n",
       "                                                text  target  \n",
       "0  RT @NeetJeePospone: ⚠️【 SOP EXPOSED 】⚠️\\n●LOCA...       0  \n",
       "1  RT @yinonw: Similarly, Germany's coronavirus \"...       3  \n",
       "2  RT @HassanPeppe: Karasuwa local government ins...       3  \n",
       "3  @Chrisar26375059 Am jealous haven't seen my fa...       3  \n",
       "4  RT @BrandonStraka: No, you don’t have to stay ...       0  "
      ]
     },
     "execution_count": 147,
     "metadata": {},
     "output_type": "execute_result"
    }
   ],
   "source": [
    "cvd_us.head()"
   ]
  },
  {
   "cell_type": "code",
   "execution_count": 153,
   "metadata": {},
   "outputs": [],
   "source": [
    "cvd_ca['date'] = cvd_ca.apply(lambda row: datetime.datetime.strptime(row.time, '%a %b %d %H:%M:%S %z %Y').month, axis=1)        \n",
    "cvd_us['date'] = cvd_us.apply(lambda row: datetime.datetime.strptime(row.time, '%a %b %d %H:%M:%S %z %Y').month, axis=1)        "
   ]
  },
  {
   "cell_type": "code",
   "execution_count": 154,
   "metadata": {},
   "outputs": [
    {
     "data": {
      "text/html": [
       "<div>\n",
       "<style scoped>\n",
       "    .dataframe tbody tr th:only-of-type {\n",
       "        vertical-align: middle;\n",
       "    }\n",
       "\n",
       "    .dataframe tbody tr th {\n",
       "        vertical-align: top;\n",
       "    }\n",
       "\n",
       "    .dataframe thead th {\n",
       "        text-align: right;\n",
       "    }\n",
       "</style>\n",
       "<table border=\"1\" class=\"dataframe\">\n",
       "  <thead>\n",
       "    <tr style=\"text-align: right;\">\n",
       "      <th></th>\n",
       "      <th>time</th>\n",
       "      <th>text</th>\n",
       "      <th>target</th>\n",
       "      <th>date</th>\n",
       "    </tr>\n",
       "  </thead>\n",
       "  <tbody>\n",
       "    <tr>\n",
       "      <td>0</td>\n",
       "      <td>Mon Aug 17 18:02:35 +0000 2020</td>\n",
       "      <td>RT @NeetJeePospone: ⚠️【 SOP EXPOSED 】⚠️\\n●LOCA...</td>\n",
       "      <td>0</td>\n",
       "      <td>8</td>\n",
       "    </tr>\n",
       "    <tr>\n",
       "      <td>1</td>\n",
       "      <td>Mon Aug 17 18:21:39 +0000 2020</td>\n",
       "      <td>RT @yinonw: Similarly, Germany's coronavirus \"...</td>\n",
       "      <td>3</td>\n",
       "      <td>8</td>\n",
       "    </tr>\n",
       "    <tr>\n",
       "      <td>2</td>\n",
       "      <td>Mon Aug 17 18:04:10 +0000 2020</td>\n",
       "      <td>RT @HassanPeppe: Karasuwa local government ins...</td>\n",
       "      <td>3</td>\n",
       "      <td>8</td>\n",
       "    </tr>\n",
       "    <tr>\n",
       "      <td>3</td>\n",
       "      <td>Mon Aug 17 18:01:21 +0000 2020</td>\n",
       "      <td>@Chrisar26375059 Am jealous haven't seen my fa...</td>\n",
       "      <td>3</td>\n",
       "      <td>8</td>\n",
       "    </tr>\n",
       "    <tr>\n",
       "      <td>4</td>\n",
       "      <td>Mon Aug 17 18:22:34 +0000 2020</td>\n",
       "      <td>RT @BrandonStraka: No, you don’t have to stay ...</td>\n",
       "      <td>0</td>\n",
       "      <td>8</td>\n",
       "    </tr>\n",
       "  </tbody>\n",
       "</table>\n",
       "</div>"
      ],
      "text/plain": [
       "                             time  \\\n",
       "0  Mon Aug 17 18:02:35 +0000 2020   \n",
       "1  Mon Aug 17 18:21:39 +0000 2020   \n",
       "2  Mon Aug 17 18:04:10 +0000 2020   \n",
       "3  Mon Aug 17 18:01:21 +0000 2020   \n",
       "4  Mon Aug 17 18:22:34 +0000 2020   \n",
       "\n",
       "                                                text  target  date  \n",
       "0  RT @NeetJeePospone: ⚠️【 SOP EXPOSED 】⚠️\\n●LOCA...       0     8  \n",
       "1  RT @yinonw: Similarly, Germany's coronavirus \"...       3     8  \n",
       "2  RT @HassanPeppe: Karasuwa local government ins...       3     8  \n",
       "3  @Chrisar26375059 Am jealous haven't seen my fa...       3     8  \n",
       "4  RT @BrandonStraka: No, you don’t have to stay ...       0     8  "
      ]
     },
     "execution_count": 154,
     "metadata": {},
     "output_type": "execute_result"
    }
   ],
   "source": [
    "cvd_us.head()"
   ]
  },
  {
   "cell_type": "code",
   "execution_count": 155,
   "metadata": {},
   "outputs": [
    {
     "data": {
      "text/plain": [
       "array([ 3,  4,  6,  7, 10, 11])"
      ]
     },
     "execution_count": 155,
     "metadata": {},
     "output_type": "execute_result"
    }
   ],
   "source": [
    "cvd_ca['date'].unique()"
   ]
  },
  {
   "cell_type": "code",
   "execution_count": 156,
   "metadata": {},
   "outputs": [
    {
     "data": {
      "text/plain": [
       "array([ 8,  9, 10])"
      ]
     },
     "execution_count": 156,
     "metadata": {},
     "output_type": "execute_result"
    }
   ],
   "source": [
    "cvd_us['date'].unique()"
   ]
  },
  {
   "cell_type": "code",
   "execution_count": 159,
   "metadata": {},
   "outputs": [],
   "source": [
    "ca_mean = cvd_ca.groupby('date').mean()"
   ]
  },
  {
   "cell_type": "code",
   "execution_count": 161,
   "metadata": {
    "scrolled": true
   },
   "outputs": [
    {
     "data": {
      "text/plain": [
       "[<matplotlib.lines.Line2D at 0x7fbff6330d10>]"
      ]
     },
     "execution_count": 161,
     "metadata": {},
     "output_type": "execute_result"
    },
    {
     "data": {
      "image/png": "[encoded data removed]",
      "text/plain": [
       "<Figure size 432x288 with 1 Axes>"
      ]
     },
     "metadata": {
      "needs_background": "light"
     },
     "output_type": "display_data"
    }
   ],
   "source": [
    "plt.plot(ca_mean)"
   ]
  },
  {
   "cell_type": "code",
   "execution_count": 164,
   "metadata": {},
   "outputs": [
    {
     "data": {
      "image/png": "[encoded data removed]",
      "text/plain": [
       "<PIL.PngImagePlugin.PngImageFile image mode=RGBA size=1616x424 at 0x7FBFF60B5850>"
      ]
     },
     "execution_count": 164,
     "metadata": {},
     "output_type": "execute_result"
    }
   ],
   "source": [
    "from PIL import Image\n",
    "Image.open('canada_covid_stat.png')"
   ]
  },
  {
   "cell_type": "code",
   "execution_count": 165,
   "metadata": {},
   "outputs": [],
   "source": [
    "us_mean = cvd_us.groupby('date').mean()"
   ]
  },
  {
   "cell_type": "code",
   "execution_count": 168,
   "metadata": {},
   "outputs": [
    {
     "data": {
      "text/plain": [
       "[<matplotlib.lines.Line2D at 0x7fbff679a610>]"
      ]
     },
     "execution_count": 168,
     "metadata": {},
     "output_type": "execute_result"
    },
    {
     "data": {
      "image/png": "[encoded data removed]",
      "text/plain": [
       "<Figure size 432x288 with 1 Axes>"
      ]
     },
     "metadata": {
      "needs_background": "light"
     },
     "output_type": "display_data"
    }
   ],
   "source": [
    "plt.plot(us_mean)\n",
    "plt.plot(ca_mean)"
   ]
  },
  {
   "cell_type": "code",
   "execution_count": 367,
   "metadata": {},
   "outputs": [],
   "source": [
    "elec_16= pd.read_csv(\"train/phase1/Election16.csv\") \n",
    "# cvd_elec_16ca['date'] = cvd_ca.apply(lambda row: datetime.datetime.strptime(row.time, '%a %b %d %H:%M:%S %z %Y').month, axis=1)        "
   ]
  },
  {
   "cell_type": "code",
   "execution_count": 368,
   "metadata": {},
   "outputs": [],
   "source": [
    "elec_16['date'] = elec_16.apply(lambda row: datetime.datetime.strptime(row.time, '%a %b %d %H:%M:%S %z %Y').date(), axis=1)"
   ]
  },
  {
   "cell_type": "code",
   "execution_count": 369,
   "metadata": {},
   "outputs": [
    {
     "data": {
      "text/html": [
       "<div>\n",
       "<style scoped>\n",
       "    .dataframe tbody tr th:only-of-type {\n",
       "        vertical-align: middle;\n",
       "    }\n",
       "\n",
       "    .dataframe tbody tr th {\n",
       "        vertical-align: top;\n",
       "    }\n",
       "\n",
       "    .dataframe thead th {\n",
       "        text-align: right;\n",
       "    }\n",
       "</style>\n",
       "<table border=\"1\" class=\"dataframe\">\n",
       "  <thead>\n",
       "    <tr style=\"text-align: right;\">\n",
       "      <th></th>\n",
       "      <th>time</th>\n",
       "      <th>text</th>\n",
       "      <th>target</th>\n",
       "      <th>date</th>\n",
       "    </tr>\n",
       "  </thead>\n",
       "  <tbody>\n",
       "    <tr>\n",
       "      <td>0</td>\n",
       "      <td>Tue Jul 26 04:03:05 +0000 2016</td>\n",
       "      <td>RT @nytimes: Watch live: Bernie Sanders is spe...</td>\n",
       "      <td>3</td>\n",
       "      <td>2016-07-26</td>\n",
       "    </tr>\n",
       "    <tr>\n",
       "      <td>1</td>\n",
       "      <td>Tue Jul 26 04:22:31 +0000 2016</td>\n",
       "      <td>RT @Lehigh389: @LaPajamas Made in the USA.\\nht...</td>\n",
       "      <td>2</td>\n",
       "      <td>2016-07-26</td>\n",
       "    </tr>\n",
       "    <tr>\n",
       "      <td>2</td>\n",
       "      <td>Tue Jul 26 03:00:32 +0000 2016</td>\n",
       "      <td>RT @Recode: Donald Trump is hosting a Reddit A...</td>\n",
       "      <td>3</td>\n",
       "      <td>2016-07-26</td>\n",
       "    </tr>\n",
       "    <tr>\n",
       "      <td>3</td>\n",
       "      <td>Wed Jul 27 21:28:28 +0000 2016</td>\n",
       "      <td>\"@DarakNy: Might be the greatest tweetstorm ev...</td>\n",
       "      <td>3</td>\n",
       "      <td>2016-07-27</td>\n",
       "    </tr>\n",
       "    <tr>\n",
       "      <td>4</td>\n",
       "      <td>Mon Jul 25 23:59:51 +0000 2016</td>\n",
       "      <td>RT @LindaSuhler: Sanders Delegates Revolt on C...</td>\n",
       "      <td>0</td>\n",
       "      <td>2016-07-25</td>\n",
       "    </tr>\n",
       "  </tbody>\n",
       "</table>\n",
       "</div>"
      ],
      "text/plain": [
       "                             time  \\\n",
       "0  Tue Jul 26 04:03:05 +0000 2016   \n",
       "1  Tue Jul 26 04:22:31 +0000 2016   \n",
       "2  Tue Jul 26 03:00:32 +0000 2016   \n",
       "3  Wed Jul 27 21:28:28 +0000 2016   \n",
       "4  Mon Jul 25 23:59:51 +0000 2016   \n",
       "\n",
       "                                                text  target        date  \n",
       "0  RT @nytimes: Watch live: Bernie Sanders is spe...       3  2016-07-26  \n",
       "1  RT @Lehigh389: @LaPajamas Made in the USA.\\nht...       2  2016-07-26  \n",
       "2  RT @Recode: Donald Trump is hosting a Reddit A...       3  2016-07-26  \n",
       "3  \"@DarakNy: Might be the greatest tweetstorm ev...       3  2016-07-27  \n",
       "4  RT @LindaSuhler: Sanders Delegates Revolt on C...       0  2016-07-25  "
      ]
     },
     "execution_count": 369,
     "metadata": {},
     "output_type": "execute_result"
    }
   ],
   "source": [
    "elec_16.head()"
   ]
  },
  {
   "cell_type": "code",
   "execution_count": 377,
   "metadata": {},
   "outputs": [],
   "source": [
    "elec_16_means = []\n",
    "\n",
    "filter_ = [d.month <= 7 and d.day <= 21 and d.day >= 18 for d in elec_16['date']]\n",
    "elec_16_means.append(elec_16[filter_]['target'].mean())\n",
    "\n",
    "filter_ = [d.month <= 7 and d.day <= 28 and d.day >= 25 for d in elec_16['date']]\n",
    "elec_16_means.append(elec_16[filter_]['target'].mean())\n",
    "\n",
    "filter_ = [d.month == 9 and d.day == 26 for d in elec_16['date']]\n",
    "elec_16_means.append(elec_16[filter_]['target'].mean())\n",
    "\n",
    "filter_ = [d.month == 10 and d.day == 4 for d in elec_16['date']]\n",
    "elec_16_means.append(elec_16[filter_]['target'].mean())\n",
    "\n",
    "filter_ = [d.month == 10 and d.day == 9 for d in elec_16['date']]\n",
    "elec_16_means.append(elec_16[filter_]['target'].mean())\n",
    "\n",
    "filter_ = [d.month == 10 and d.day == 19 for d in elec_16['date']]\n",
    "elec_16_means.append(elec_16[filter_]['target'].mean())"
   ]
  },
  {
   "cell_type": "code",
   "execution_count": 380,
   "metadata": {},
   "outputs": [
    {
     "data": {
      "text/plain": [
       "[<matplotlib.lines.Line2D at 0x7fbfdf5ada90>]"
      ]
     },
     "execution_count": 380,
     "metadata": {},
     "output_type": "execute_result"
    },
    {
     "data": {
      "image/png": "[encoded data removed]",
      "text/plain": [
       "<Figure size 432x288 with 1 Axes>"
      ]
     },
     "metadata": {
      "needs_background": "light"
     },
     "output_type": "display_data"
    }
   ],
   "source": [
    "plt.plot(['rnc', 'dnc', 'pd1', 'vpd', 'pd2', 'pd3'], elec_16_means)"
   ]
  },
  {
   "cell_type": "markdown",
   "metadata": {},
   "source": [
    "### Phase2"
   ]
  },
  {
   "cell_type": "code",
   "execution_count": 173,
   "metadata": {},
   "outputs": [],
   "source": [
    "covid_pred= pd.read_csv(\"train/phase2/Covid_model_predict_new.csv\")\n",
    "elec_pred= pd.read_csv(\"train/phase2/Election_model_predict_new.csv\")"
   ]
  },
  {
   "cell_type": "code",
   "execution_count": 176,
   "metadata": {},
   "outputs": [
    {
     "data": {
      "text/html": [
       "<div>\n",
       "<style scoped>\n",
       "    .dataframe tbody tr th:only-of-type {\n",
       "        vertical-align: middle;\n",
       "    }\n",
       "\n",
       "    .dataframe tbody tr th {\n",
       "        vertical-align: top;\n",
       "    }\n",
       "\n",
       "    .dataframe thead th {\n",
       "        text-align: right;\n",
       "    }\n",
       "</style>\n",
       "<table border=\"1\" class=\"dataframe\">\n",
       "  <thead>\n",
       "    <tr style=\"text-align: right;\">\n",
       "      <th></th>\n",
       "      <th>time</th>\n",
       "      <th>text</th>\n",
       "      <th>label</th>\n",
       "      <th>processed_text</th>\n",
       "      <th>target</th>\n",
       "    </tr>\n",
       "  </thead>\n",
       "  <tbody>\n",
       "    <tr>\n",
       "      <td>0</td>\n",
       "      <td>Thu Oct 22 18:23:59 +0000 2020</td>\n",
       "      <td>RT @BillOReilly: Lesley Stahl denies the econo...</td>\n",
       "      <td>covid</td>\n",
       "      <td>: Lesley Stahl denies the economy before the p...</td>\n",
       "      <td>1</td>\n",
       "    </tr>\n",
       "    <tr>\n",
       "      <td>1</td>\n",
       "      <td>Wed Oct 07 18:17:08 +0000 2020</td>\n",
       "      <td>RT @CaslerNoel: The first time I heard a story...</td>\n",
       "      <td>election</td>\n",
       "      <td>: The first time I heard a story about Trump r...</td>\n",
       "      <td>1</td>\n",
       "    </tr>\n",
       "    <tr>\n",
       "      <td>2</td>\n",
       "      <td>Wed Oct 21 18:20:29 +0000 2020</td>\n",
       "      <td>RT @seanhannity: BREAKING: Jim Jordan Says Sta...</td>\n",
       "      <td>election</td>\n",
       "      <td>: BREAKING: Jim Jordan Says Staff Has Independ...</td>\n",
       "      <td>1</td>\n",
       "    </tr>\n",
       "    <tr>\n",
       "      <td>3</td>\n",
       "      <td>Tue Oct 06 18:22:43 +0000 2020</td>\n",
       "      <td>RT @AntillanaSoy_: nobody recovers from COVID-...</td>\n",
       "      <td>covid</td>\n",
       "      <td>: nobody recovers from COVID-19 in days ... sp...</td>\n",
       "      <td>1</td>\n",
       "    </tr>\n",
       "    <tr>\n",
       "      <td>4</td>\n",
       "      <td>Tue Aug 18 18:01:22 +0000 2020</td>\n",
       "      <td>RT @phatpussymo: Like cool... but she’s dead a...</td>\n",
       "      <td>election</td>\n",
       "      <td>: Like cool... but shes dead and theres thousa...</td>\n",
       "      <td>1</td>\n",
       "    </tr>\n",
       "  </tbody>\n",
       "</table>\n",
       "</div>"
      ],
      "text/plain": [
       "                             time  \\\n",
       "0  Thu Oct 22 18:23:59 +0000 2020   \n",
       "1  Wed Oct 07 18:17:08 +0000 2020   \n",
       "2  Wed Oct 21 18:20:29 +0000 2020   \n",
       "3  Tue Oct 06 18:22:43 +0000 2020   \n",
       "4  Tue Aug 18 18:01:22 +0000 2020   \n",
       "\n",
       "                                                text     label  \\\n",
       "0  RT @BillOReilly: Lesley Stahl denies the econo...     covid   \n",
       "1  RT @CaslerNoel: The first time I heard a story...  election   \n",
       "2  RT @seanhannity: BREAKING: Jim Jordan Says Sta...  election   \n",
       "3  RT @AntillanaSoy_: nobody recovers from COVID-...     covid   \n",
       "4  RT @phatpussymo: Like cool... but she’s dead a...  election   \n",
       "\n",
       "                                      processed_text  target  \n",
       "0  : Lesley Stahl denies the economy before the p...       1  \n",
       "1  : The first time I heard a story about Trump r...       1  \n",
       "2  : BREAKING: Jim Jordan Says Staff Has Independ...       1  \n",
       "3  : nobody recovers from COVID-19 in days ... sp...       1  \n",
       "4  : Like cool... but shes dead and theres thousa...       1  "
      ]
     },
     "execution_count": 176,
     "metadata": {},
     "output_type": "execute_result"
    }
   ],
   "source": [
    "covid_pred.head()"
   ]
  },
  {
   "cell_type": "code",
   "execution_count": 177,
   "metadata": {},
   "outputs": [
    {
     "data": {
      "text/html": [
       "<div>\n",
       "<style scoped>\n",
       "    .dataframe tbody tr th:only-of-type {\n",
       "        vertical-align: middle;\n",
       "    }\n",
       "\n",
       "    .dataframe tbody tr th {\n",
       "        vertical-align: top;\n",
       "    }\n",
       "\n",
       "    .dataframe thead th {\n",
       "        text-align: right;\n",
       "    }\n",
       "</style>\n",
       "<table border=\"1\" class=\"dataframe\">\n",
       "  <thead>\n",
       "    <tr style=\"text-align: right;\">\n",
       "      <th></th>\n",
       "      <th>time</th>\n",
       "      <th>text</th>\n",
       "      <th>label</th>\n",
       "      <th>processed_text</th>\n",
       "      <th>target</th>\n",
       "    </tr>\n",
       "  </thead>\n",
       "  <tbody>\n",
       "    <tr>\n",
       "      <td>0</td>\n",
       "      <td>Tue Sep 29 18:54:18 +0000 2020</td>\n",
       "      <td>RT @lindyli: Remember: every accusation is a c...</td>\n",
       "      <td>election</td>\n",
       "      <td>: Remember: every accusation is a confession T...</td>\n",
       "      <td>1</td>\n",
       "    </tr>\n",
       "    <tr>\n",
       "      <td>1</td>\n",
       "      <td>Thu Oct 08 18:55:43 +0000 2020</td>\n",
       "      <td>RT @doctor_oxford: There are 17,540 new cases ...</td>\n",
       "      <td>covid</td>\n",
       "      <td>: There are new cases of Covid today - more th...</td>\n",
       "      <td>2</td>\n",
       "    </tr>\n",
       "    <tr>\n",
       "      <td>2</td>\n",
       "      <td>Mon Sep 28 18:28:56 +0000 2020</td>\n",
       "      <td>If I was a customer at a retail establishment ...</td>\n",
       "      <td>covid</td>\n",
       "      <td>If I was a customer at a retail establishment ...</td>\n",
       "      <td>1</td>\n",
       "    </tr>\n",
       "    <tr>\n",
       "      <td>3</td>\n",
       "      <td>Tue Oct 06 18:18:15 +0000 2020</td>\n",
       "      <td>RT @elitelife_kd: Fought COVID for 3 days...th...</td>\n",
       "      <td>covid</td>\n",
       "      <td>: Fought COVID for days...then back to normal?...</td>\n",
       "      <td>1</td>\n",
       "    </tr>\n",
       "    <tr>\n",
       "      <td>4</td>\n",
       "      <td>Thu Oct 22 18:16:52 +0000 2020</td>\n",
       "      <td>RT @imtoomuchnigga: Damn, y’all struggling!  I...</td>\n",
       "      <td>covid</td>\n",
       "      <td>: Damn, yall struggling! Ivy Park is size incl...</td>\n",
       "      <td>1</td>\n",
       "    </tr>\n",
       "  </tbody>\n",
       "</table>\n",
       "</div>"
      ],
      "text/plain": [
       "                             time  \\\n",
       "0  Tue Sep 29 18:54:18 +0000 2020   \n",
       "1  Thu Oct 08 18:55:43 +0000 2020   \n",
       "2  Mon Sep 28 18:28:56 +0000 2020   \n",
       "3  Tue Oct 06 18:18:15 +0000 2020   \n",
       "4  Thu Oct 22 18:16:52 +0000 2020   \n",
       "\n",
       "                                                text     label  \\\n",
       "0  RT @lindyli: Remember: every accusation is a c...  election   \n",
       "1  RT @doctor_oxford: There are 17,540 new cases ...     covid   \n",
       "2  If I was a customer at a retail establishment ...     covid   \n",
       "3  RT @elitelife_kd: Fought COVID for 3 days...th...     covid   \n",
       "4  RT @imtoomuchnigga: Damn, y’all struggling!  I...     covid   \n",
       "\n",
       "                                      processed_text  target  \n",
       "0  : Remember: every accusation is a confession T...       1  \n",
       "1  : There are new cases of Covid today - more th...       2  \n",
       "2  If I was a customer at a retail establishment ...       1  \n",
       "3  : Fought COVID for days...then back to normal?...       1  \n",
       "4  : Damn, yall struggling! Ivy Park is size incl...       1  "
      ]
     },
     "execution_count": 177,
     "metadata": {},
     "output_type": "execute_result"
    }
   ],
   "source": [
    "elec_pred.head()"
   ]
  },
  {
   "cell_type": "code",
   "execution_count": 178,
   "metadata": {},
   "outputs": [
    {
     "data": {
      "text/plain": [
       "1012"
      ]
     },
     "execution_count": 178,
     "metadata": {},
     "output_type": "execute_result"
    }
   ],
   "source": [
    "sum(elec_pred['target'] != covid_pred['target'])"
   ]
  },
  {
   "cell_type": "code",
   "execution_count": 179,
   "metadata": {},
   "outputs": [
    {
     "data": {
      "text/plain": [
       "2317"
      ]
     },
     "execution_count": 179,
     "metadata": {},
     "output_type": "execute_result"
    }
   ],
   "source": [
    "len(elec_pred)"
   ]
  },
  {
   "cell_type": "code",
   "execution_count": 180,
   "metadata": {},
   "outputs": [],
   "source": [
    "diff_indices = elec_pred.index[elec_pred['target'] != covid_pred['target']]"
   ]
  },
  {
   "cell_type": "code",
   "execution_count": 195,
   "metadata": {},
   "outputs": [],
   "source": [
    "covid_diff_pred = covid_pred.iloc[diff_indices, :]"
   ]
  },
  {
   "cell_type": "code",
   "execution_count": 197,
   "metadata": {},
   "outputs": [
    {
     "data": {
      "text/html": [
       "<div>\n",
       "<style scoped>\n",
       "    .dataframe tbody tr th:only-of-type {\n",
       "        vertical-align: middle;\n",
       "    }\n",
       "\n",
       "    .dataframe tbody tr th {\n",
       "        vertical-align: top;\n",
       "    }\n",
       "\n",
       "    .dataframe thead th {\n",
       "        text-align: right;\n",
       "    }\n",
       "</style>\n",
       "<table border=\"1\" class=\"dataframe\">\n",
       "  <thead>\n",
       "    <tr style=\"text-align: right;\">\n",
       "      <th></th>\n",
       "      <th>time</th>\n",
       "      <th>text</th>\n",
       "      <th>label</th>\n",
       "      <th>processed_text</th>\n",
       "      <th>target</th>\n",
       "    </tr>\n",
       "  </thead>\n",
       "  <tbody>\n",
       "    <tr>\n",
       "      <td>1</td>\n",
       "      <td>Wed Oct 07 18:17:08 +0000 2020</td>\n",
       "      <td>RT @CaslerNoel: The first time I heard a story...</td>\n",
       "      <td>election</td>\n",
       "      <td>: The first time I heard a story about Trump r...</td>\n",
       "      <td>1</td>\n",
       "    </tr>\n",
       "    <tr>\n",
       "      <td>5</td>\n",
       "      <td>Tue Aug 25 18:23:18 +0000 2020</td>\n",
       "      <td>RT @RealWayneRoot: Fast emerging as HUGE issue...</td>\n",
       "      <td>election</td>\n",
       "      <td>: Fast emerging as HUGE issue election- COLLEG...</td>\n",
       "      <td>0</td>\n",
       "    </tr>\n",
       "    <tr>\n",
       "      <td>6</td>\n",
       "      <td>Wed Oct 21 18:15:12 +0000 2020</td>\n",
       "      <td>RT @SaraCarterDC: #CENSORSHIP \\n\\nSAY WHAT? Wa...</td>\n",
       "      <td>election</td>\n",
       "      <td>: SAY WHAT? Washington Post writer suggests Tw...</td>\n",
       "      <td>1</td>\n",
       "    </tr>\n",
       "    <tr>\n",
       "      <td>8</td>\n",
       "      <td>Wed Oct 21 18:14:55 +0000 2020</td>\n",
       "      <td>@Dr__Spaceman_ @KUSINews @JoeBiden @realDonald...</td>\n",
       "      <td>election</td>\n",
       "      <td>That isn't how taxes work..... not all taxes a...</td>\n",
       "      <td>1</td>\n",
       "    </tr>\n",
       "    <tr>\n",
       "      <td>10</td>\n",
       "      <td>Mon Sep 28 18:44:54 +0000 2020</td>\n",
       "      <td>RT @mmpadellan: I'm old enough to remember whe...</td>\n",
       "      <td>election</td>\n",
       "      <td>: I'm old enough to remember when was disrespe...</td>\n",
       "      <td>0</td>\n",
       "    </tr>\n",
       "  </tbody>\n",
       "</table>\n",
       "</div>"
      ],
      "text/plain": [
       "                              time  \\\n",
       "1   Wed Oct 07 18:17:08 +0000 2020   \n",
       "5   Tue Aug 25 18:23:18 +0000 2020   \n",
       "6   Wed Oct 21 18:15:12 +0000 2020   \n",
       "8   Wed Oct 21 18:14:55 +0000 2020   \n",
       "10  Mon Sep 28 18:44:54 +0000 2020   \n",
       "\n",
       "                                                 text     label  \\\n",
       "1   RT @CaslerNoel: The first time I heard a story...  election   \n",
       "5   RT @RealWayneRoot: Fast emerging as HUGE issue...  election   \n",
       "6   RT @SaraCarterDC: #CENSORSHIP \\n\\nSAY WHAT? Wa...  election   \n",
       "8   @Dr__Spaceman_ @KUSINews @JoeBiden @realDonald...  election   \n",
       "10  RT @mmpadellan: I'm old enough to remember whe...  election   \n",
       "\n",
       "                                       processed_text  target  \n",
       "1   : The first time I heard a story about Trump r...       1  \n",
       "5   : Fast emerging as HUGE issue election- COLLEG...       0  \n",
       "6   : SAY WHAT? Washington Post writer suggests Tw...       1  \n",
       "8   That isn't how taxes work..... not all taxes a...       1  \n",
       "10  : I'm old enough to remember when was disrespe...       0  "
      ]
     },
     "execution_count": 197,
     "metadata": {},
     "output_type": "execute_result"
    }
   ],
   "source": [
    "covid_diff_pred.head()"
   ]
  },
  {
   "cell_type": "code",
   "execution_count": 194,
   "metadata": {},
   "outputs": [
    {
     "data": {
      "text/html": [
       "<div>\n",
       "<style scoped>\n",
       "    .dataframe tbody tr th:only-of-type {\n",
       "        vertical-align: middle;\n",
       "    }\n",
       "\n",
       "    .dataframe tbody tr th {\n",
       "        vertical-align: top;\n",
       "    }\n",
       "\n",
       "    .dataframe thead th {\n",
       "        text-align: right;\n",
       "    }\n",
       "</style>\n",
       "<table border=\"1\" class=\"dataframe\">\n",
       "  <thead>\n",
       "    <tr style=\"text-align: right;\">\n",
       "      <th></th>\n",
       "      <th>time</th>\n",
       "      <th>text</th>\n",
       "      <th>label</th>\n",
       "      <th>processed_text</th>\n",
       "      <th>target</th>\n",
       "    </tr>\n",
       "  </thead>\n",
       "  <tbody>\n",
       "    <tr>\n",
       "      <td>1</td>\n",
       "      <td>Thu Oct 08 18:55:43 +0000 2020</td>\n",
       "      <td>RT @doctor_oxford: There are 17,540 new cases ...</td>\n",
       "      <td>covid</td>\n",
       "      <td>: There are new cases of Covid today - more th...</td>\n",
       "      <td>2</td>\n",
       "    </tr>\n",
       "    <tr>\n",
       "      <td>5</td>\n",
       "      <td>Fri Oct 23 18:27:12 +0000 2020</td>\n",
       "      <td>@ChadTheChud @kayleighmcenany @JoeBiden Electi...</td>\n",
       "      <td>election</td>\n",
       "      <td>Election show stop due to Bidens lies n crimin...</td>\n",
       "      <td>1</td>\n",
       "    </tr>\n",
       "    <tr>\n",
       "      <td>6</td>\n",
       "      <td>Tue Oct 06 18:32:19 +0000 2020</td>\n",
       "      <td>RT @chakradhar_ias: Second 10,000 Litres oxyge...</td>\n",
       "      <td>covid</td>\n",
       "      <td>: Second Litres oxygen tank is set up today at...</td>\n",
       "      <td>2</td>\n",
       "    </tr>\n",
       "    <tr>\n",
       "      <td>8</td>\n",
       "      <td>Tue Oct 06 18:53:51 +0000 2020</td>\n",
       "      <td>RT @BillKristol: This is moving and powerful. ...</td>\n",
       "      <td>election</td>\n",
       "      <td>: This is moving and powerful. America is bett...</td>\n",
       "      <td>3</td>\n",
       "    </tr>\n",
       "    <tr>\n",
       "      <td>10</td>\n",
       "      <td>Wed Aug 19 18:33:21 +0000 2020</td>\n",
       "      <td>Over here trying to snag us some pandemic Wedd...</td>\n",
       "      <td>covid</td>\n",
       "      <td>Over here trying to snag us some pandemic Wedd...</td>\n",
       "      <td>1</td>\n",
       "    </tr>\n",
       "  </tbody>\n",
       "</table>\n",
       "</div>"
      ],
      "text/plain": [
       "                              time  \\\n",
       "1   Thu Oct 08 18:55:43 +0000 2020   \n",
       "5   Fri Oct 23 18:27:12 +0000 2020   \n",
       "6   Tue Oct 06 18:32:19 +0000 2020   \n",
       "8   Tue Oct 06 18:53:51 +0000 2020   \n",
       "10  Wed Aug 19 18:33:21 +0000 2020   \n",
       "\n",
       "                                                 text     label  \\\n",
       "1   RT @doctor_oxford: There are 17,540 new cases ...     covid   \n",
       "5   @ChadTheChud @kayleighmcenany @JoeBiden Electi...  election   \n",
       "6   RT @chakradhar_ias: Second 10,000 Litres oxyge...     covid   \n",
       "8   RT @BillKristol: This is moving and powerful. ...  election   \n",
       "10  Over here trying to snag us some pandemic Wedd...     covid   \n",
       "\n",
       "                                       processed_text  target  \n",
       "1   : There are new cases of Covid today - more th...       2  \n",
       "5   Election show stop due to Bidens lies n crimin...       1  \n",
       "6   : Second Litres oxygen tank is set up today at...       2  \n",
       "8   : This is moving and powerful. America is bett...       3  \n",
       "10  Over here trying to snag us some pandemic Wedd...       1  "
      ]
     },
     "execution_count": 194,
     "metadata": {},
     "output_type": "execute_result"
    }
   ],
   "source": [
    "elec_diff_pred = elec_pred.iloc[diff_indices, :]\n",
    "elec_diff_pred.head()"
   ]
  },
  {
   "cell_type": "code",
   "execution_count": 199,
   "metadata": {},
   "outputs": [
    {
     "name": "stderr",
     "output_type": "stream",
     "text": [
      "/Users/xingu/opt/anaconda3/lib/python3.7/site-packages/ipykernel_launcher.py:1: SettingWithCopyWarning: \n",
      "A value is trying to be set on a copy of a slice from a DataFrame.\n",
      "Try using .loc[row_indexer,col_indexer] = value instead\n",
      "\n",
      "See the caveats in the documentation: http://pandas.pydata.org/pandas-docs/stable/user_guide/indexing.html#returning-a-view-versus-a-copy\n",
      "  \"\"\"Entry point for launching an IPython kernel.\n",
      "/Users/xingu/opt/anaconda3/lib/python3.7/site-packages/ipykernel_launcher.py:2: SettingWithCopyWarning: \n",
      "A value is trying to be set on a copy of a slice from a DataFrame.\n",
      "Try using .loc[row_indexer,col_indexer] = value instead\n",
      "\n",
      "See the caveats in the documentation: http://pandas.pydata.org/pandas-docs/stable/user_guide/indexing.html#returning-a-view-versus-a-copy\n",
      "  \n"
     ]
    }
   ],
   "source": [
    "covid_diff_pred['date'] = covid_diff_pred.apply(lambda row: datetime.datetime.strptime(row.time, '%a %b %d %H:%M:%S %z %Y').date(), axis=1)        \n",
    "elec_diff_pred['date'] = elec_diff_pred.apply(lambda row: datetime.datetime.strptime(row.time, '%a %b %d %H:%M:%S %z %Y').date(), axis=1)        "
   ]
  },
  {
   "cell_type": "code",
   "execution_count": 202,
   "metadata": {},
   "outputs": [],
   "source": [
    "covid_pred_means = covid_diff_pred.groupby('date').mean()\n",
    "elec_pred_means = elec_diff_pred.groupby('date').mean()"
   ]
  },
  {
   "cell_type": "code",
   "execution_count": 209,
   "metadata": {
    "scrolled": true
   },
   "outputs": [
    {
     "data": {
      "text/html": [
       "<div>\n",
       "<style scoped>\n",
       "    .dataframe tbody tr th:only-of-type {\n",
       "        vertical-align: middle;\n",
       "    }\n",
       "\n",
       "    .dataframe tbody tr th {\n",
       "        vertical-align: top;\n",
       "    }\n",
       "\n",
       "    .dataframe thead th {\n",
       "        text-align: right;\n",
       "    }\n",
       "</style>\n",
       "<table border=\"1\" class=\"dataframe\">\n",
       "  <thead>\n",
       "    <tr style=\"text-align: right;\">\n",
       "      <th></th>\n",
       "      <th>target</th>\n",
       "    </tr>\n",
       "    <tr>\n",
       "      <th>date</th>\n",
       "      <th></th>\n",
       "    </tr>\n",
       "  </thead>\n",
       "  <tbody>\n",
       "    <tr>\n",
       "      <td>2020-08-17</td>\n",
       "      <td>1.377358</td>\n",
       "    </tr>\n",
       "    <tr>\n",
       "      <td>2020-08-18</td>\n",
       "      <td>1.254545</td>\n",
       "    </tr>\n",
       "    <tr>\n",
       "      <td>2020-08-19</td>\n",
       "      <td>1.315068</td>\n",
       "    </tr>\n",
       "    <tr>\n",
       "      <td>2020-08-20</td>\n",
       "      <td>1.322581</td>\n",
       "    </tr>\n",
       "    <tr>\n",
       "      <td>2020-08-24</td>\n",
       "      <td>1.177419</td>\n",
       "    </tr>\n",
       "    <tr>\n",
       "      <td>2020-08-25</td>\n",
       "      <td>1.400000</td>\n",
       "    </tr>\n",
       "    <tr>\n",
       "      <td>2020-08-26</td>\n",
       "      <td>1.301887</td>\n",
       "    </tr>\n",
       "    <tr>\n",
       "      <td>2020-08-27</td>\n",
       "      <td>1.347826</td>\n",
       "    </tr>\n",
       "    <tr>\n",
       "      <td>2020-09-28</td>\n",
       "      <td>1.313725</td>\n",
       "    </tr>\n",
       "    <tr>\n",
       "      <td>2020-09-29</td>\n",
       "      <td>1.420290</td>\n",
       "    </tr>\n",
       "    <tr>\n",
       "      <td>2020-09-30</td>\n",
       "      <td>1.035714</td>\n",
       "    </tr>\n",
       "    <tr>\n",
       "      <td>2020-10-06</td>\n",
       "      <td>1.217391</td>\n",
       "    </tr>\n",
       "    <tr>\n",
       "      <td>2020-10-07</td>\n",
       "      <td>1.276923</td>\n",
       "    </tr>\n",
       "    <tr>\n",
       "      <td>2020-10-08</td>\n",
       "      <td>1.412698</td>\n",
       "    </tr>\n",
       "    <tr>\n",
       "      <td>2020-10-21</td>\n",
       "      <td>1.355932</td>\n",
       "    </tr>\n",
       "    <tr>\n",
       "      <td>2020-10-22</td>\n",
       "      <td>1.070175</td>\n",
       "    </tr>\n",
       "    <tr>\n",
       "      <td>2020-10-23</td>\n",
       "      <td>1.231884</td>\n",
       "    </tr>\n",
       "  </tbody>\n",
       "</table>\n",
       "</div>"
      ],
      "text/plain": [
       "              target\n",
       "date                \n",
       "2020-08-17  1.377358\n",
       "2020-08-18  1.254545\n",
       "2020-08-19  1.315068\n",
       "2020-08-20  1.322581\n",
       "2020-08-24  1.177419\n",
       "2020-08-25  1.400000\n",
       "2020-08-26  1.301887\n",
       "2020-08-27  1.347826\n",
       "2020-09-28  1.313725\n",
       "2020-09-29  1.420290\n",
       "2020-09-30  1.035714\n",
       "2020-10-06  1.217391\n",
       "2020-10-07  1.276923\n",
       "2020-10-08  1.412698\n",
       "2020-10-21  1.355932\n",
       "2020-10-22  1.070175\n",
       "2020-10-23  1.231884"
      ]
     },
     "execution_count": 209,
     "metadata": {},
     "output_type": "execute_result"
    }
   ],
   "source": [
    "covid_pred_means"
   ]
  },
  {
   "cell_type": "code",
   "execution_count": 210,
   "metadata": {},
   "outputs": [
    {
     "data": {
      "text/html": [
       "<div>\n",
       "<style scoped>\n",
       "    .dataframe tbody tr th:only-of-type {\n",
       "        vertical-align: middle;\n",
       "    }\n",
       "\n",
       "    .dataframe tbody tr th {\n",
       "        vertical-align: top;\n",
       "    }\n",
       "\n",
       "    .dataframe thead th {\n",
       "        text-align: right;\n",
       "    }\n",
       "</style>\n",
       "<table border=\"1\" class=\"dataframe\">\n",
       "  <thead>\n",
       "    <tr style=\"text-align: right;\">\n",
       "      <th></th>\n",
       "      <th>target</th>\n",
       "    </tr>\n",
       "    <tr>\n",
       "      <th>date</th>\n",
       "      <th></th>\n",
       "    </tr>\n",
       "  </thead>\n",
       "  <tbody>\n",
       "    <tr>\n",
       "      <td>2020-08-17</td>\n",
       "      <td>1.481481</td>\n",
       "    </tr>\n",
       "    <tr>\n",
       "      <td>2020-08-18</td>\n",
       "      <td>1.412698</td>\n",
       "    </tr>\n",
       "    <tr>\n",
       "      <td>2020-08-19</td>\n",
       "      <td>1.470588</td>\n",
       "    </tr>\n",
       "    <tr>\n",
       "      <td>2020-08-20</td>\n",
       "      <td>1.509091</td>\n",
       "    </tr>\n",
       "    <tr>\n",
       "      <td>2020-08-24</td>\n",
       "      <td>1.500000</td>\n",
       "    </tr>\n",
       "    <tr>\n",
       "      <td>2020-08-25</td>\n",
       "      <td>1.534483</td>\n",
       "    </tr>\n",
       "    <tr>\n",
       "      <td>2020-08-26</td>\n",
       "      <td>1.183673</td>\n",
       "    </tr>\n",
       "    <tr>\n",
       "      <td>2020-08-27</td>\n",
       "      <td>1.360000</td>\n",
       "    </tr>\n",
       "    <tr>\n",
       "      <td>2020-09-28</td>\n",
       "      <td>1.259259</td>\n",
       "    </tr>\n",
       "    <tr>\n",
       "      <td>2020-09-29</td>\n",
       "      <td>1.438596</td>\n",
       "    </tr>\n",
       "    <tr>\n",
       "      <td>2020-09-30</td>\n",
       "      <td>1.142857</td>\n",
       "    </tr>\n",
       "    <tr>\n",
       "      <td>2020-10-06</td>\n",
       "      <td>1.400000</td>\n",
       "    </tr>\n",
       "    <tr>\n",
       "      <td>2020-10-07</td>\n",
       "      <td>1.438356</td>\n",
       "    </tr>\n",
       "    <tr>\n",
       "      <td>2020-10-08</td>\n",
       "      <td>1.210526</td>\n",
       "    </tr>\n",
       "    <tr>\n",
       "      <td>2020-10-21</td>\n",
       "      <td>1.409091</td>\n",
       "    </tr>\n",
       "    <tr>\n",
       "      <td>2020-10-22</td>\n",
       "      <td>1.178571</td>\n",
       "    </tr>\n",
       "    <tr>\n",
       "      <td>2020-10-23</td>\n",
       "      <td>1.384615</td>\n",
       "    </tr>\n",
       "  </tbody>\n",
       "</table>\n",
       "</div>"
      ],
      "text/plain": [
       "              target\n",
       "date                \n",
       "2020-08-17  1.481481\n",
       "2020-08-18  1.412698\n",
       "2020-08-19  1.470588\n",
       "2020-08-20  1.509091\n",
       "2020-08-24  1.500000\n",
       "2020-08-25  1.534483\n",
       "2020-08-26  1.183673\n",
       "2020-08-27  1.360000\n",
       "2020-09-28  1.259259\n",
       "2020-09-29  1.438596\n",
       "2020-09-30  1.142857\n",
       "2020-10-06  1.400000\n",
       "2020-10-07  1.438356\n",
       "2020-10-08  1.210526\n",
       "2020-10-21  1.409091\n",
       "2020-10-22  1.178571\n",
       "2020-10-23  1.384615"
      ]
     },
     "execution_count": 210,
     "metadata": {},
     "output_type": "execute_result"
    }
   ],
   "source": [
    "elec_pred_means"
   ]
  },
  {
   "cell_type": "markdown",
   "metadata": {},
   "source": [
    "### DNC"
   ]
  },
  {
   "cell_type": "code",
   "execution_count": 282,
   "metadata": {},
   "outputs": [],
   "source": [
    "c_events_mean = []"
   ]
  },
  {
   "cell_type": "code",
   "execution_count": 283,
   "metadata": {},
   "outputs": [],
   "source": [
    "e_events_mean = []"
   ]
  },
  {
   "cell_type": "code",
   "execution_count": 284,
   "metadata": {
    "scrolled": true
   },
   "outputs": [
    {
     "data": {
      "text/plain": [
       "<matplotlib.legend.Legend at 0x7fbfdd73ca10>"
      ]
     },
     "execution_count": 284,
     "metadata": {},
     "output_type": "execute_result"
    },
    {
     "data": {
      "image/png": "[encoded data removed]",
      "text/plain": [
       "<Figure size 432x288 with 1 Axes>"
      ]
     },
     "metadata": {
      "needs_background": "light"
     },
     "output_type": "display_data"
    }
   ],
   "source": [
    "filter_ = [d.month == 8 and d.day <= 20 for d in covid_pred_means.index]\n",
    "plt.plot(covid_pred_means[filter_], label=\"covid model\")\n",
    "plt.plot(elec_pred_means[filter_], label=\"election model\")\n",
    "plt.legend()"
   ]
  },
  {
   "cell_type": "code",
   "execution_count": 285,
   "metadata": {},
   "outputs": [],
   "source": [
    "c_events_mean.append(covid_pred_means[filter_]['target'].mean())"
   ]
  },
  {
   "cell_type": "code",
   "execution_count": 286,
   "metadata": {},
   "outputs": [],
   "source": [
    "e_events_mean.append(elec_pred_means[filter_]['target'].mean())"
   ]
  },
  {
   "cell_type": "markdown",
   "metadata": {},
   "source": [
    "### RNC"
   ]
  },
  {
   "cell_type": "code",
   "execution_count": 308,
   "metadata": {
    "scrolled": true
   },
   "outputs": [
    {
     "data": {
      "text/plain": [
       "<matplotlib.legend.Legend at 0x7fbfde398d50>"
      ]
     },
     "execution_count": 308,
     "metadata": {},
     "output_type": "execute_result"
    },
    {
     "data": {
      "image/png": "[encoded data removed]",
      "text/plain": [
       "<Figure size 432x288 with 1 Axes>"
      ]
     },
     "metadata": {
      "needs_background": "light"
     },
     "output_type": "display_data"
    }
   ],
   "source": [
    "filter_ = [d.month == 8 and d.day <= 27 and d.day >= 24 for d in covid_pred_means.index]\n",
    "plt.plot(covid_pred_means[filter_], label=\"covid model\")\n",
    "plt.plot(elec_pred_means[filter_], label=\"election model\")\n",
    "plt.legend()"
   ]
  },
  {
   "cell_type": "code",
   "execution_count": 309,
   "metadata": {},
   "outputs": [],
   "source": [
    "c_events_mean.append(covid_pred_means[filter_]['target'].mean())"
   ]
  },
  {
   "cell_type": "code",
   "execution_count": 289,
   "metadata": {},
   "outputs": [],
   "source": [
    "e_events_mean.append(elec_pred_means[filter_]['target'].mean())"
   ]
  },
  {
   "cell_type": "markdown",
   "metadata": {},
   "source": [
    "### Presidential Debate I"
   ]
  },
  {
   "cell_type": "code",
   "execution_count": 290,
   "metadata": {
    "scrolled": true
   },
   "outputs": [
    {
     "data": {
      "text/plain": [
       "<matplotlib.legend.Legend at 0x7fbfddaae790>"
      ]
     },
     "execution_count": 290,
     "metadata": {},
     "output_type": "execute_result"
    },
    {
     "data": {
      "image/png": "[encoded data removed]",
      "text/plain": [
       "<Figure size 432x288 with 1 Axes>"
      ]
     },
     "metadata": {
      "needs_background": "light"
     },
     "output_type": "display_data"
    }
   ],
   "source": [
    "filter_ = [d.month == 9 and d.day <= 30 and d.day >= 28 for d in covid_pred_means.index]\n",
    "plt.plot(covid_pred_means[filter_], label=\"covid model\")\n",
    "plt.plot(elec_pred_means[filter_], label=\"election model\")\n",
    "plt.legend()"
   ]
  },
  {
   "cell_type": "code",
   "execution_count": 291,
   "metadata": {},
   "outputs": [],
   "source": [
    "c_events_mean.append(covid_pred_means[filter_]['target'].mean())"
   ]
  },
  {
   "cell_type": "code",
   "execution_count": 292,
   "metadata": {},
   "outputs": [],
   "source": [
    "e_events_mean.append(elec_pred_means[filter_]['target'].mean())"
   ]
  },
  {
   "cell_type": "markdown",
   "metadata": {},
   "source": [
    "### VP debate"
   ]
  },
  {
   "cell_type": "code",
   "execution_count": 293,
   "metadata": {
    "scrolled": true
   },
   "outputs": [
    {
     "data": {
      "text/plain": [
       "<matplotlib.legend.Legend at 0x7fbfddbb6e90>"
      ]
     },
     "execution_count": 293,
     "metadata": {},
     "output_type": "execute_result"
    },
    {
     "data": {
      "image/png": "[encoded data removed]",
      "text/plain": [
       "<Figure size 432x288 with 1 Axes>"
      ]
     },
     "metadata": {
      "needs_background": "light"
     },
     "output_type": "display_data"
    }
   ],
   "source": [
    "filter_ = [d.month == 10 and d.day <= 8 and d.day >= 6 for d in covid_pred_means.index]\n",
    "plt.plot(covid_pred_means[filter_], label=\"covid model\")\n",
    "plt.plot(elec_pred_means[filter_], label=\"election model\")\n",
    "plt.legend()"
   ]
  },
  {
   "cell_type": "code",
   "execution_count": 294,
   "metadata": {},
   "outputs": [],
   "source": [
    "c_events_mean.append(covid_pred_means[filter_]['target'].mean())"
   ]
  },
  {
   "cell_type": "code",
   "execution_count": 295,
   "metadata": {},
   "outputs": [],
   "source": [
    "e_events_mean.append(elec_pred_means[filter_]['target'].mean())"
   ]
  },
  {
   "cell_type": "markdown",
   "metadata": {},
   "source": [
    "### Presidential Debate II"
   ]
  },
  {
   "cell_type": "code",
   "execution_count": 296,
   "metadata": {
    "scrolled": false
   },
   "outputs": [
    {
     "data": {
      "text/plain": [
       "<matplotlib.legend.Legend at 0x7fbfdd906310>"
      ]
     },
     "execution_count": 296,
     "metadata": {},
     "output_type": "execute_result"
    },
    {
     "data": {
      "image/png": "[encoded data removed]",
      "text/plain": [
       "<Figure size 432x288 with 1 Axes>"
      ]
     },
     "metadata": {
      "needs_background": "light"
     },
     "output_type": "display_data"
    }
   ],
   "source": [
    "filter_ = [d.month == 10 and d.day <= 23 and d.day >= 21 for d in covid_pred_means.index]\n",
    "plt.plot(covid_pred_means[filter_], label=\"covid model\")\n",
    "plt.plot(elec_pred_means[filter_], label=\"election model\")\n",
    "plt.legend()"
   ]
  },
  {
   "cell_type": "code",
   "execution_count": 297,
   "metadata": {},
   "outputs": [],
   "source": [
    "c_events_mean.append(covid_pred_means[filter_]['target'].mean())"
   ]
  },
  {
   "cell_type": "code",
   "execution_count": 298,
   "metadata": {},
   "outputs": [],
   "source": [
    "e_events_mean.append(elec_pred_means[filter_]['target'].mean())"
   ]
  },
  {
   "cell_type": "code",
   "execution_count": 302,
   "metadata": {},
   "outputs": [
    {
     "data": {
      "text/plain": [
       "<matplotlib.legend.Legend at 0x7fbfdd3628d0>"
      ]
     },
     "execution_count": 302,
     "metadata": {},
     "output_type": "execute_result"
    },
    {
     "data": {
      "image/png": "[encoded data removed]",
      "text/plain": [
       "<Figure size 432x288 with 1 Axes>"
      ]
     },
     "metadata": {
      "needs_background": "light"
     },
     "output_type": "display_data"
    }
   ],
   "source": [
    "x_indices = ['dnc', 'rnc', 'pd1', 'vpd', 'pd2']\n",
    "plt.plot(x_indices, c_events_mean, label='covid')\n",
    "plt.plot(x_indices, e_events_mean, label='election')\n",
    "plt.legend()"
   ]
  },
  {
   "cell_type": "markdown",
   "metadata": {},
   "source": [
    "### Overall"
   ]
  },
  {
   "cell_type": "code",
   "execution_count": 381,
   "metadata": {},
   "outputs": [
    {
     "data": {
      "text/plain": [
       "<matplotlib.legend.Legend at 0x7fbfdf669450>"
      ]
     },
     "execution_count": 381,
     "metadata": {},
     "output_type": "execute_result"
    },
    {
     "data": {
      "image/png": "[encoded data removed]",
      "text/plain": [
       "<Figure size 432x288 with 1 Axes>"
      ]
     },
     "metadata": {
      "needs_background": "light"
     },
     "output_type": "display_data"
    }
   ],
   "source": [
    "plt.plot(covid_pred_means.index, covid_pred_means, label=\"covid model\")\n",
    "plt.plot(elec_pred_means.index, elec_pred_means, label=\"election model\")\n",
    "plt.legend()"
   ]
  },
  {
   "cell_type": "markdown",
   "metadata": {},
   "source": [
    "## Trend of Election"
   ]
  },
  {
   "cell_type": "code",
   "execution_count": null,
   "metadata": {},
   "outputs": [],
   "source": []
  },
  {
   "cell_type": "code",
   "execution_count": 354,
   "metadata": {},
   "outputs": [],
   "source": [
    "elec_subset = elec_pred[elec_pred['label'] == 'election']"
   ]
  },
  {
   "cell_type": "code",
   "execution_count": 355,
   "metadata": {},
   "outputs": [
    {
     "name": "stderr",
     "output_type": "stream",
     "text": [
      "/Users/xingu/opt/anaconda3/lib/python3.7/site-packages/ipykernel_launcher.py:1: SettingWithCopyWarning: \n",
      "A value is trying to be set on a copy of a slice from a DataFrame.\n",
      "Try using .loc[row_indexer,col_indexer] = value instead\n",
      "\n",
      "See the caveats in the documentation: http://pandas.pydata.org/pandas-docs/stable/user_guide/indexing.html#returning-a-view-versus-a-copy\n",
      "  \"\"\"Entry point for launching an IPython kernel.\n"
     ]
    }
   ],
   "source": [
    "elec_subset['date'] = elec_subset.apply(lambda row: datetime.datetime.strptime(row.time, '%a %b %d %H:%M:%S %z %Y').date(), axis=1)"
   ]
  },
  {
   "cell_type": "code",
   "execution_count": 356,
   "metadata": {},
   "outputs": [],
   "source": [
    "elec_subset_mean = elec_subset.groupby('date').mean()"
   ]
  },
  {
   "cell_type": "code",
   "execution_count": 357,
   "metadata": {},
   "outputs": [],
   "source": [
    "covid_subset = covid_pred[covid_pred['label'] != 'election']"
   ]
  },
  {
   "cell_type": "code",
   "execution_count": 358,
   "metadata": {
    "scrolled": true
   },
   "outputs": [
    {
     "name": "stderr",
     "output_type": "stream",
     "text": [
      "/Users/xingu/opt/anaconda3/lib/python3.7/site-packages/ipykernel_launcher.py:1: SettingWithCopyWarning: \n",
      "A value is trying to be set on a copy of a slice from a DataFrame.\n",
      "Try using .loc[row_indexer,col_indexer] = value instead\n",
      "\n",
      "See the caveats in the documentation: http://pandas.pydata.org/pandas-docs/stable/user_guide/indexing.html#returning-a-view-versus-a-copy\n",
      "  \"\"\"Entry point for launching an IPython kernel.\n"
     ]
    }
   ],
   "source": [
    "covid_subset['date'] = covid_subset.apply(lambda row: datetime.datetime.strptime(row.time, '%a %b %d %H:%M:%S %z %Y').date(), axis=1)"
   ]
  },
  {
   "cell_type": "code",
   "execution_count": 359,
   "metadata": {},
   "outputs": [],
   "source": [
    "covid_subset_mean = covid_subset.groupby('date').mean()"
   ]
  },
  {
   "cell_type": "code",
   "execution_count": null,
   "metadata": {},
   "outputs": [],
   "source": []
  },
  {
   "cell_type": "markdown",
   "metadata": {},
   "source": [
    "### Before September"
   ]
  },
  {
   "cell_type": "code",
   "execution_count": 360,
   "metadata": {},
   "outputs": [
    {
     "data": {
      "text/plain": [
       "<matplotlib.legend.Legend at 0x7fbfdf0a0d10>"
      ]
     },
     "execution_count": 360,
     "metadata": {},
     "output_type": "execute_result"
    },
    {
     "data": {
      "image/png": "[encoded data removed]",
      "text/plain": [
       "<Figure size 432x288 with 1 Axes>"
      ]
     },
     "metadata": {
      "needs_background": "light"
     },
     "output_type": "display_data"
    }
   ],
   "source": [
    "filter_ = [d.month < 9 for d in elec_subset_mean.index]\n",
    "plt.plot(elec_subset_mean[filter_], label=\"election subset\")\n",
    "plt.plot(covid_subset_mean[filter_], label=\"covid subset\")\n",
    "plt.legend()"
   ]
  },
  {
   "cell_type": "markdown",
   "metadata": {},
   "source": [
    "#### election model prediciton results"
   ]
  },
  {
   "cell_type": "code",
   "execution_count": 347,
   "metadata": {
    "scrolled": true
   },
   "outputs": [
    {
     "data": {
      "text/plain": [
       "<matplotlib.legend.Legend at 0x7fbfdebf6e10>"
      ]
     },
     "execution_count": 347,
     "metadata": {},
     "output_type": "execute_result"
    },
    {
     "data": {
      "image/png": "[encoded data removed]",
      "text/plain": [
       "<Figure size 432x288 with 1 Axes>"
      ]
     },
     "metadata": {
      "needs_background": "light"
     },
     "output_type": "display_data"
    }
   ],
   "source": [
    "filter_ = [d.month < 9 for d in elec_subset_mean.index]\n",
    "plt.plot(elec_subset_mean[filter_], label=\"election subset\")\n",
    "plt.plot(covid_subset_mean[filter_], label=\"covid subset\")\n",
    "plt.legend()"
   ]
  },
  {
   "cell_type": "markdown",
   "metadata": {},
   "source": [
    "### Since September"
   ]
  },
  {
   "cell_type": "markdown",
   "metadata": {},
   "source": [
    "#### covid model prediciton results"
   ]
  },
  {
   "cell_type": "code",
   "execution_count": 361,
   "metadata": {
    "scrolled": true
   },
   "outputs": [
    {
     "data": {
      "text/plain": [
       "<matplotlib.legend.Legend at 0x7fbfdf148750>"
      ]
     },
     "execution_count": 361,
     "metadata": {},
     "output_type": "execute_result"
    },
    {
     "data": {
      "image/png": "[encoded data removed]",
      "text/plain": [
       "<Figure size 432x288 with 1 Axes>"
      ]
     },
     "metadata": {
      "needs_background": "light"
     },
     "output_type": "display_data"
    }
   ],
   "source": [
    "filter_ = [d.month >= 9 for d in elec_subset_mean.index]\n",
    "plt.plot(elec_subset_mean[filter_], label=\"election subset\")\n",
    "plt.plot(covid_subset_mean[filter_], label=\"covid subset\")\n",
    "plt.legend()"
   ]
  },
  {
   "cell_type": "markdown",
   "metadata": {},
   "source": [
    "#### election model prediciton results"
   ]
  },
  {
   "cell_type": "code",
   "execution_count": 348,
   "metadata": {},
   "outputs": [
    {
     "data": {
      "text/plain": [
       "<matplotlib.legend.Legend at 0x7fbfdec29850>"
      ]
     },
     "execution_count": 348,
     "metadata": {},
     "output_type": "execute_result"
    },
    {
     "data": {
      "image/png": "[encoded data removed]",
      "text/plain": [
       "<Figure size 432x288 with 1 Axes>"
      ]
     },
     "metadata": {
      "needs_background": "light"
     },
     "output_type": "display_data"
    }
   ],
   "source": [
    "filter_ = [d.month >= 9 for d in elec_subset_mean.index]\n",
    "plt.plot(elec_subset_mean[filter_], label=\"election subset\")\n",
    "plt.plot(covid_subset_mean[filter_], label=\"covid subset\")\n",
    "plt.legend()"
   ]
  },
  {
   "cell_type": "markdown",
   "metadata": {},
   "source": [
    "### Compare the 'accuracy'"
   ]
  },
  {
   "cell_type": "code",
   "execution_count": 382,
   "metadata": {},
   "outputs": [],
   "source": [
    "covid_pred= pd.read_csv(\"train/phase2/Covid_model_predict_new.csv\")\n",
    "elec_pred= pd.read_csv(\"train/phase2/Election_model_predict_new.csv\")"
   ]
  },
  {
   "cell_type": "code",
   "execution_count": 383,
   "metadata": {},
   "outputs": [],
   "source": [
    "covid_p1= pd.read_csv(\"train/phase1/Covid_US.csv\")\n",
    "elec_p1= pd.read_csv(\"train/phase1/Election20.csv\")"
   ]
  },
  {
   "cell_type": "code",
   "execution_count": 387,
   "metadata": {},
   "outputs": [
    {
     "data": {
      "text/html": [
       "<div>\n",
       "<style scoped>\n",
       "    .dataframe tbody tr th:only-of-type {\n",
       "        vertical-align: middle;\n",
       "    }\n",
       "\n",
       "    .dataframe tbody tr th {\n",
       "        vertical-align: top;\n",
       "    }\n",
       "\n",
       "    .dataframe thead th {\n",
       "        text-align: right;\n",
       "    }\n",
       "</style>\n",
       "<table border=\"1\" class=\"dataframe\">\n",
       "  <thead>\n",
       "    <tr style=\"text-align: right;\">\n",
       "      <th></th>\n",
       "      <th>time</th>\n",
       "      <th>text</th>\n",
       "      <th>target</th>\n",
       "    </tr>\n",
       "  </thead>\n",
       "  <tbody>\n",
       "    <tr>\n",
       "      <td>0</td>\n",
       "      <td>Mon Aug 17 18:31:45 +0000 2020</td>\n",
       "      <td>RT @DemConvention: We've always risen to our c...</td>\n",
       "      <td>3</td>\n",
       "    </tr>\n",
       "    <tr>\n",
       "      <td>1</td>\n",
       "      <td>Mon Aug 17 18:40:59 +0000 2020</td>\n",
       "      <td>RT @kleavitt: @monacharenEPPC @MaxBoot Part of...</td>\n",
       "      <td>1</td>\n",
       "    </tr>\n",
       "    <tr>\n",
       "      <td>2</td>\n",
       "      <td>Mon Aug 17 18:56:49 +0000 2020</td>\n",
       "      <td>RT @EricTrump: .@realDonaldTrump Boat Parade t...</td>\n",
       "      <td>2</td>\n",
       "    </tr>\n",
       "    <tr>\n",
       "      <td>3</td>\n",
       "      <td>Mon Aug 17 18:19:23 +0000 2020</td>\n",
       "      <td>RT @realDonaldTrump: Getting ready to land in ...</td>\n",
       "      <td>3</td>\n",
       "    </tr>\n",
       "    <tr>\n",
       "      <td>4</td>\n",
       "      <td>Mon Aug 17 18:52:43 +0000 2020</td>\n",
       "      <td>about mail in vs absentee voting is a lie. \\nT...</td>\n",
       "      <td>1</td>\n",
       "    </tr>\n",
       "    <tr>\n",
       "      <td>...</td>\n",
       "      <td>...</td>\n",
       "      <td>...</td>\n",
       "      <td>...</td>\n",
       "    </tr>\n",
       "    <tr>\n",
       "      <td>1293</td>\n",
       "      <td>Fri Oct 23 18:50:53 +0000 2020</td>\n",
       "      <td>RT @DonaldJTrumpJr: Trump Foreign Policy: 🇺🇸🇺🇸...</td>\n",
       "      <td>3</td>\n",
       "    </tr>\n",
       "    <tr>\n",
       "      <td>1294</td>\n",
       "      <td>Fri Oct 23 18:58:51 +0000 2020</td>\n",
       "      <td>RT @kevinomccarthy: .@RealDonaldTrump has the ...</td>\n",
       "      <td>0</td>\n",
       "    </tr>\n",
       "    <tr>\n",
       "      <td>1295</td>\n",
       "      <td>Fri Oct 23 18:22:08 +0000 2020</td>\n",
       "      <td>My actionable plans on mental healthcare are b...</td>\n",
       "      <td>3</td>\n",
       "    </tr>\n",
       "    <tr>\n",
       "      <td>1296</td>\n",
       "      <td>Fri Oct 23 18:13:03 +0000 2020</td>\n",
       "      <td>RT @john_sipher: Your daily reminder. The Krem...</td>\n",
       "      <td>0</td>\n",
       "    </tr>\n",
       "    <tr>\n",
       "      <td>1297</td>\n",
       "      <td>Fri Oct 23 18:31:41 +0000 2020</td>\n",
       "      <td>RT @DonaldJTrumpJr: Imagine how much more ther...</td>\n",
       "      <td>1</td>\n",
       "    </tr>\n",
       "  </tbody>\n",
       "</table>\n",
       "<p>1298 rows × 3 columns</p>\n",
       "</div>"
      ],
      "text/plain": [
       "                                time  \\\n",
       "0     Mon Aug 17 18:31:45 +0000 2020   \n",
       "1     Mon Aug 17 18:40:59 +0000 2020   \n",
       "2     Mon Aug 17 18:56:49 +0000 2020   \n",
       "3     Mon Aug 17 18:19:23 +0000 2020   \n",
       "4     Mon Aug 17 18:52:43 +0000 2020   \n",
       "...                              ...   \n",
       "1293  Fri Oct 23 18:50:53 +0000 2020   \n",
       "1294  Fri Oct 23 18:58:51 +0000 2020   \n",
       "1295  Fri Oct 23 18:22:08 +0000 2020   \n",
       "1296  Fri Oct 23 18:13:03 +0000 2020   \n",
       "1297  Fri Oct 23 18:31:41 +0000 2020   \n",
       "\n",
       "                                                   text  target  \n",
       "0     RT @DemConvention: We've always risen to our c...       3  \n",
       "1     RT @kleavitt: @monacharenEPPC @MaxBoot Part of...       1  \n",
       "2     RT @EricTrump: .@realDonaldTrump Boat Parade t...       2  \n",
       "3     RT @realDonaldTrump: Getting ready to land in ...       3  \n",
       "4     about mail in vs absentee voting is a lie. \\nT...       1  \n",
       "...                                                 ...     ...  \n",
       "1293  RT @DonaldJTrumpJr: Trump Foreign Policy: 🇺🇸🇺🇸...       3  \n",
       "1294  RT @kevinomccarthy: .@RealDonaldTrump has the ...       0  \n",
       "1295  My actionable plans on mental healthcare are b...       3  \n",
       "1296  RT @john_sipher: Your daily reminder. The Krem...       0  \n",
       "1297  RT @DonaldJTrumpJr: Imagine how much more ther...       1  \n",
       "\n",
       "[1298 rows x 3 columns]"
      ]
     },
     "execution_count": 387,
     "metadata": {},
     "output_type": "execute_result"
    }
   ],
   "source": [
    "elec_p1"
   ]
  },
  {
   "cell_type": "code",
   "execution_count": 386,
   "metadata": {},
   "outputs": [
    {
     "data": {
      "text/html": [
       "<div>\n",
       "<style scoped>\n",
       "    .dataframe tbody tr th:only-of-type {\n",
       "        vertical-align: middle;\n",
       "    }\n",
       "\n",
       "    .dataframe tbody tr th {\n",
       "        vertical-align: top;\n",
       "    }\n",
       "\n",
       "    .dataframe thead th {\n",
       "        text-align: right;\n",
       "    }\n",
       "</style>\n",
       "<table border=\"1\" class=\"dataframe\">\n",
       "  <thead>\n",
       "    <tr style=\"text-align: right;\">\n",
       "      <th></th>\n",
       "      <th>time</th>\n",
       "      <th>text</th>\n",
       "      <th>label</th>\n",
       "      <th>processed_text</th>\n",
       "      <th>target</th>\n",
       "    </tr>\n",
       "  </thead>\n",
       "  <tbody>\n",
       "    <tr>\n",
       "      <td>0</td>\n",
       "      <td>Tue Sep 29 18:54:18 +0000 2020</td>\n",
       "      <td>RT @lindyli: Remember: every accusation is a c...</td>\n",
       "      <td>election</td>\n",
       "      <td>: Remember: every accusation is a confession T...</td>\n",
       "      <td>1</td>\n",
       "    </tr>\n",
       "    <tr>\n",
       "      <td>1</td>\n",
       "      <td>Thu Oct 08 18:55:43 +0000 2020</td>\n",
       "      <td>RT @doctor_oxford: There are 17,540 new cases ...</td>\n",
       "      <td>covid</td>\n",
       "      <td>: There are new cases of Covid today - more th...</td>\n",
       "      <td>2</td>\n",
       "    </tr>\n",
       "    <tr>\n",
       "      <td>2</td>\n",
       "      <td>Mon Sep 28 18:28:56 +0000 2020</td>\n",
       "      <td>If I was a customer at a retail establishment ...</td>\n",
       "      <td>covid</td>\n",
       "      <td>If I was a customer at a retail establishment ...</td>\n",
       "      <td>1</td>\n",
       "    </tr>\n",
       "    <tr>\n",
       "      <td>3</td>\n",
       "      <td>Tue Oct 06 18:18:15 +0000 2020</td>\n",
       "      <td>RT @elitelife_kd: Fought COVID for 3 days...th...</td>\n",
       "      <td>covid</td>\n",
       "      <td>: Fought COVID for days...then back to normal?...</td>\n",
       "      <td>1</td>\n",
       "    </tr>\n",
       "    <tr>\n",
       "      <td>4</td>\n",
       "      <td>Thu Oct 22 18:16:52 +0000 2020</td>\n",
       "      <td>RT @imtoomuchnigga: Damn, y’all struggling!  I...</td>\n",
       "      <td>covid</td>\n",
       "      <td>: Damn, yall struggling! Ivy Park is size incl...</td>\n",
       "      <td>1</td>\n",
       "    </tr>\n",
       "    <tr>\n",
       "      <td>...</td>\n",
       "      <td>...</td>\n",
       "      <td>...</td>\n",
       "      <td>...</td>\n",
       "      <td>...</td>\n",
       "      <td>...</td>\n",
       "    </tr>\n",
       "    <tr>\n",
       "      <td>2312</td>\n",
       "      <td>Fri Oct 23 18:13:03 +0000 2020</td>\n",
       "      <td>RT @john_sipher: Your daily reminder. The Krem...</td>\n",
       "      <td>election</td>\n",
       "      <td>: Your daily reminder. The Kremlin doesnt help...</td>\n",
       "      <td>1</td>\n",
       "    </tr>\n",
       "    <tr>\n",
       "      <td>2313</td>\n",
       "      <td>Thu Aug 27 18:51:25 +0000 2020</td>\n",
       "      <td>RT @ReneeCarrollAZ: \"Say to Americans who love...</td>\n",
       "      <td>election</td>\n",
       "      <td>: \"Say to Americans who love our country, youn...</td>\n",
       "      <td>1</td>\n",
       "    </tr>\n",
       "    <tr>\n",
       "      <td>2314</td>\n",
       "      <td>Tue Sep 29 18:49:39 +0000 2020</td>\n",
       "      <td>RT @HKrassenstein: BREAKING: Judge Sullivan ju...</td>\n",
       "      <td>election</td>\n",
       "      <td>: BREAKING: Judge Sullivan just asked Michael ...</td>\n",
       "      <td>2</td>\n",
       "    </tr>\n",
       "    <tr>\n",
       "      <td>2315</td>\n",
       "      <td>Wed Aug 19 18:55:41 +0000 2020</td>\n",
       "      <td>RT @roinnslainte: WATCH: Acting Chief Medical ...</td>\n",
       "      <td>covid</td>\n",
       "      <td>: WATCH: Acting Chief Medical Officer Dr expla...</td>\n",
       "      <td>2</td>\n",
       "    </tr>\n",
       "    <tr>\n",
       "      <td>2316</td>\n",
       "      <td>Fri Oct 23 18:23:18 +0000 2020</td>\n",
       "      <td>RT @angie_keathly: Trump likes to talk a big g...</td>\n",
       "      <td>election</td>\n",
       "      <td>: Trump likes to talk a big game when it comes...</td>\n",
       "      <td>1</td>\n",
       "    </tr>\n",
       "  </tbody>\n",
       "</table>\n",
       "<p>2317 rows × 5 columns</p>\n",
       "</div>"
      ],
      "text/plain": [
       "                                time  \\\n",
       "0     Tue Sep 29 18:54:18 +0000 2020   \n",
       "1     Thu Oct 08 18:55:43 +0000 2020   \n",
       "2     Mon Sep 28 18:28:56 +0000 2020   \n",
       "3     Tue Oct 06 18:18:15 +0000 2020   \n",
       "4     Thu Oct 22 18:16:52 +0000 2020   \n",
       "...                              ...   \n",
       "2312  Fri Oct 23 18:13:03 +0000 2020   \n",
       "2313  Thu Aug 27 18:51:25 +0000 2020   \n",
       "2314  Tue Sep 29 18:49:39 +0000 2020   \n",
       "2315  Wed Aug 19 18:55:41 +0000 2020   \n",
       "2316  Fri Oct 23 18:23:18 +0000 2020   \n",
       "\n",
       "                                                   text     label  \\\n",
       "0     RT @lindyli: Remember: every accusation is a c...  election   \n",
       "1     RT @doctor_oxford: There are 17,540 new cases ...     covid   \n",
       "2     If I was a customer at a retail establishment ...     covid   \n",
       "3     RT @elitelife_kd: Fought COVID for 3 days...th...     covid   \n",
       "4     RT @imtoomuchnigga: Damn, y’all struggling!  I...     covid   \n",
       "...                                                 ...       ...   \n",
       "2312  RT @john_sipher: Your daily reminder. The Krem...  election   \n",
       "2313  RT @ReneeCarrollAZ: \"Say to Americans who love...  election   \n",
       "2314  RT @HKrassenstein: BREAKING: Judge Sullivan ju...  election   \n",
       "2315  RT @roinnslainte: WATCH: Acting Chief Medical ...     covid   \n",
       "2316  RT @angie_keathly: Trump likes to talk a big g...  election   \n",
       "\n",
       "                                         processed_text  target  \n",
       "0     : Remember: every accusation is a confession T...       1  \n",
       "1     : There are new cases of Covid today - more th...       2  \n",
       "2     If I was a customer at a retail establishment ...       1  \n",
       "3     : Fought COVID for days...then back to normal?...       1  \n",
       "4     : Damn, yall struggling! Ivy Park is size incl...       1  \n",
       "...                                                 ...     ...  \n",
       "2312  : Your daily reminder. The Kremlin doesnt help...       1  \n",
       "2313  : \"Say to Americans who love our country, youn...       1  \n",
       "2314  : BREAKING: Judge Sullivan just asked Michael ...       2  \n",
       "2315  : WATCH: Acting Chief Medical Officer Dr expla...       2  \n",
       "2316  : Trump likes to talk a big game when it comes...       1  \n",
       "\n",
       "[2317 rows x 5 columns]"
      ]
     },
     "execution_count": 386,
     "metadata": {},
     "output_type": "execute_result"
    }
   ],
   "source": [
    "elec_pred"
   ]
  },
  {
   "cell_type": "code",
   "execution_count": null,
   "metadata": {},
   "outputs": [],
   "source": []
  }
 ],
 "metadata": {
  "kernelspec": {
   "display_name": "Python 3",
   "language": "python",
   "name": "python3"
  },
  "language_info": {
   "codemirror_mode": {
    "name": "ipython",
    "version": 3
   },
   "file_extension": ".py",
   "mimetype": "text/x-python",
   "name": "python",
   "nbconvert_exporter": "python",
   "pygments_lexer": "ipython3",
   "version": "3.7.4"
  }
 },
 "nbformat": 4,
 "nbformat_minor": 2
}
